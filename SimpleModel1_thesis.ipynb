{
  "cells": [
    {
      "cell_type": "markdown",
      "metadata": {
        "id": "thH7IEDfz9EJ"
      },
      "source": [
        "\n",
        "# Explanation of the task:\n",
        "\n",
        "This is the classic Emotion Recognition Classification task. Given a conversation, involving 2 or more parties, for each message/utterance, we want to predict an emotion related to it.\n",
        "\n",
        "\n",
        "Consider the example:\n",
        "\n",
        "**Person A**: \"Hello! I am very happy\" (happiness)\n",
        "\n",
        "**Person B**: \"Why? I am very angry\"   (anger)\n",
        "\n",
        "## First model idea:\n",
        "- inputs: sequence of utterances, sequence of emotions.\n",
        "- For each: Linear Layers\n",
        "- Fusion model\n",
        "\n",
        "- Loss: cross-entropy\n",
        "\n"
      ]
    },
    {
      "cell_type": "markdown",
      "metadata": {
        "id": "ahJqQ42nHjCY"
      },
      "source": [
        "# Other approach:\n",
        "\n",
        "Consider the each conversation as just a sequence of words:\n",
        "$$\n",
        "[[utt, utt, \\cdots], \\cdots ] \\longrightarrow [[word, word , \\cdots], \\cdots]\n",
        "$$\n",
        "\n",
        "Issue comes when there is some separator: How to implement it? Idea: Use a random token to represent it.\n",
        "\n",
        "## Weight update:\n",
        " - Make the updatable weights constant and then update it dynamically\n",
        " - train it once and them update it dynamically in the forward pass\n",
        " - cache weight matrices and train them individually -> this does not train properly (super slow convergence)\n"
      ]
    },
    {
      "cell_type": "code",
      "execution_count": 68,
      "metadata": {
        "colab": {
          "base_uri": "https://localhost:8080/"
        },
        "id": "LmXtaDwE1rk1",
        "outputId": "e963ff6e-8d01-470b-a196-ca964b444aeb"
      },
      "outputs": [
        {
          "output_type": "stream",
          "name": "stdout",
          "text": [
            "Requirement already satisfied: nltk in /usr/local/lib/python3.10/dist-packages (3.9.1)\n",
            "Requirement already satisfied: click in /usr/local/lib/python3.10/dist-packages (from nltk) (8.1.7)\n",
            "Requirement already satisfied: joblib in /usr/local/lib/python3.10/dist-packages (from nltk) (1.4.2)\n",
            "Requirement already satisfied: regex>=2021.8.3 in /usr/local/lib/python3.10/dist-packages (from nltk) (2024.11.6)\n",
            "Requirement already satisfied: tqdm in /usr/local/lib/python3.10/dist-packages (from nltk) (4.67.1)\n",
            "Requirement already satisfied: torch in /usr/local/lib/python3.10/dist-packages (2.5.1+cu121)\n",
            "Requirement already satisfied: filelock in /usr/local/lib/python3.10/dist-packages (from torch) (3.16.1)\n",
            "Requirement already satisfied: typing-extensions>=4.8.0 in /usr/local/lib/python3.10/dist-packages (from torch) (4.12.2)\n",
            "Requirement already satisfied: networkx in /usr/local/lib/python3.10/dist-packages (from torch) (3.4.2)\n",
            "Requirement already satisfied: jinja2 in /usr/local/lib/python3.10/dist-packages (from torch) (3.1.4)\n",
            "Requirement already satisfied: fsspec in /usr/local/lib/python3.10/dist-packages (from torch) (2024.9.0)\n",
            "Requirement already satisfied: sympy==1.13.1 in /usr/local/lib/python3.10/dist-packages (from torch) (1.13.1)\n",
            "Requirement already satisfied: mpmath<1.4,>=1.1.0 in /usr/local/lib/python3.10/dist-packages (from sympy==1.13.1->torch) (1.3.0)\n",
            "Requirement already satisfied: MarkupSafe>=2.0 in /usr/local/lib/python3.10/dist-packages (from jinja2->torch) (3.0.2)\n",
            "Requirement already satisfied: pandas in /usr/local/lib/python3.10/dist-packages (2.2.2)\n",
            "Requirement already satisfied: numpy>=1.22.4 in /usr/local/lib/python3.10/dist-packages (from pandas) (1.26.4)\n",
            "Requirement already satisfied: python-dateutil>=2.8.2 in /usr/local/lib/python3.10/dist-packages (from pandas) (2.8.2)\n",
            "Requirement already satisfied: pytz>=2020.1 in /usr/local/lib/python3.10/dist-packages (from pandas) (2024.2)\n",
            "Requirement already satisfied: tzdata>=2022.7 in /usr/local/lib/python3.10/dist-packages (from pandas) (2024.2)\n",
            "Requirement already satisfied: six>=1.5 in /usr/local/lib/python3.10/dist-packages (from python-dateutil>=2.8.2->pandas) (1.17.0)\n",
            "Requirement already satisfied: gensim in /usr/local/lib/python3.10/dist-packages (4.3.3)\n",
            "Requirement already satisfied: numpy<2.0,>=1.18.5 in /usr/local/lib/python3.10/dist-packages (from gensim) (1.26.4)\n",
            "Requirement already satisfied: scipy<1.14.0,>=1.7.0 in /usr/local/lib/python3.10/dist-packages (from gensim) (1.13.1)\n",
            "Requirement already satisfied: smart-open>=1.8.1 in /usr/local/lib/python3.10/dist-packages (from gensim) (7.1.0)\n",
            "Requirement already satisfied: wrapt in /usr/local/lib/python3.10/dist-packages (from smart-open>=1.8.1->gensim) (1.17.0)\n",
            "Requirement already satisfied: datasets in /usr/local/lib/python3.10/dist-packages (3.2.0)\n",
            "Requirement already satisfied: filelock in /usr/local/lib/python3.10/dist-packages (from datasets) (3.16.1)\n",
            "Requirement already satisfied: numpy>=1.17 in /usr/local/lib/python3.10/dist-packages (from datasets) (1.26.4)\n",
            "Requirement already satisfied: pyarrow>=15.0.0 in /usr/local/lib/python3.10/dist-packages (from datasets) (17.0.0)\n",
            "Requirement already satisfied: dill<0.3.9,>=0.3.0 in /usr/local/lib/python3.10/dist-packages (from datasets) (0.3.8)\n",
            "Requirement already satisfied: pandas in /usr/local/lib/python3.10/dist-packages (from datasets) (2.2.2)\n",
            "Requirement already satisfied: requests>=2.32.2 in /usr/local/lib/python3.10/dist-packages (from datasets) (2.32.3)\n",
            "Requirement already satisfied: tqdm>=4.66.3 in /usr/local/lib/python3.10/dist-packages (from datasets) (4.67.1)\n",
            "Requirement already satisfied: xxhash in /usr/local/lib/python3.10/dist-packages (from datasets) (3.5.0)\n",
            "Requirement already satisfied: multiprocess<0.70.17 in /usr/local/lib/python3.10/dist-packages (from datasets) (0.70.16)\n",
            "Requirement already satisfied: fsspec<=2024.9.0,>=2023.1.0 in /usr/local/lib/python3.10/dist-packages (from fsspec[http]<=2024.9.0,>=2023.1.0->datasets) (2024.9.0)\n",
            "Requirement already satisfied: aiohttp in /usr/local/lib/python3.10/dist-packages (from datasets) (3.11.10)\n",
            "Requirement already satisfied: huggingface-hub>=0.23.0 in /usr/local/lib/python3.10/dist-packages (from datasets) (0.27.0)\n",
            "Requirement already satisfied: packaging in /usr/local/lib/python3.10/dist-packages (from datasets) (24.2)\n",
            "Requirement already satisfied: pyyaml>=5.1 in /usr/local/lib/python3.10/dist-packages (from datasets) (6.0.2)\n",
            "Requirement already satisfied: aiohappyeyeballs>=2.3.0 in /usr/local/lib/python3.10/dist-packages (from aiohttp->datasets) (2.4.4)\n",
            "Requirement already satisfied: aiosignal>=1.1.2 in /usr/local/lib/python3.10/dist-packages (from aiohttp->datasets) (1.3.2)\n",
            "Requirement already satisfied: async-timeout<6.0,>=4.0 in /usr/local/lib/python3.10/dist-packages (from aiohttp->datasets) (4.0.3)\n",
            "Requirement already satisfied: attrs>=17.3.0 in /usr/local/lib/python3.10/dist-packages (from aiohttp->datasets) (24.3.0)\n",
            "Requirement already satisfied: frozenlist>=1.1.1 in /usr/local/lib/python3.10/dist-packages (from aiohttp->datasets) (1.5.0)\n",
            "Requirement already satisfied: multidict<7.0,>=4.5 in /usr/local/lib/python3.10/dist-packages (from aiohttp->datasets) (6.1.0)\n",
            "Requirement already satisfied: propcache>=0.2.0 in /usr/local/lib/python3.10/dist-packages (from aiohttp->datasets) (0.2.1)\n",
            "Requirement already satisfied: yarl<2.0,>=1.17.0 in /usr/local/lib/python3.10/dist-packages (from aiohttp->datasets) (1.18.3)\n",
            "Requirement already satisfied: typing-extensions>=3.7.4.3 in /usr/local/lib/python3.10/dist-packages (from huggingface-hub>=0.23.0->datasets) (4.12.2)\n",
            "Requirement already satisfied: charset-normalizer<4,>=2 in /usr/local/lib/python3.10/dist-packages (from requests>=2.32.2->datasets) (3.4.0)\n",
            "Requirement already satisfied: idna<4,>=2.5 in /usr/local/lib/python3.10/dist-packages (from requests>=2.32.2->datasets) (3.10)\n",
            "Requirement already satisfied: urllib3<3,>=1.21.1 in /usr/local/lib/python3.10/dist-packages (from requests>=2.32.2->datasets) (2.2.3)\n",
            "Requirement already satisfied: certifi>=2017.4.17 in /usr/local/lib/python3.10/dist-packages (from requests>=2.32.2->datasets) (2024.12.14)\n",
            "Requirement already satisfied: python-dateutil>=2.8.2 in /usr/local/lib/python3.10/dist-packages (from pandas->datasets) (2.8.2)\n",
            "Requirement already satisfied: pytz>=2020.1 in /usr/local/lib/python3.10/dist-packages (from pandas->datasets) (2024.2)\n",
            "Requirement already satisfied: tzdata>=2022.7 in /usr/local/lib/python3.10/dist-packages (from pandas->datasets) (2024.2)\n",
            "Requirement already satisfied: six>=1.5 in /usr/local/lib/python3.10/dist-packages (from python-dateutil>=2.8.2->pandas->datasets) (1.17.0)\n",
            "Requirement already satisfied: matplotlib in /usr/local/lib/python3.10/dist-packages (3.8.0)\n",
            "Requirement already satisfied: contourpy>=1.0.1 in /usr/local/lib/python3.10/dist-packages (from matplotlib) (1.3.1)\n",
            "Requirement already satisfied: cycler>=0.10 in /usr/local/lib/python3.10/dist-packages (from matplotlib) (0.12.1)\n",
            "Requirement already satisfied: fonttools>=4.22.0 in /usr/local/lib/python3.10/dist-packages (from matplotlib) (4.55.3)\n",
            "Requirement already satisfied: kiwisolver>=1.0.1 in /usr/local/lib/python3.10/dist-packages (from matplotlib) (1.4.7)\n",
            "Requirement already satisfied: numpy<2,>=1.21 in /usr/local/lib/python3.10/dist-packages (from matplotlib) (1.26.4)\n",
            "Requirement already satisfied: packaging>=20.0 in /usr/local/lib/python3.10/dist-packages (from matplotlib) (24.2)\n",
            "Requirement already satisfied: pillow>=6.2.0 in /usr/local/lib/python3.10/dist-packages (from matplotlib) (11.0.0)\n",
            "Requirement already satisfied: pyparsing>=2.3.1 in /usr/local/lib/python3.10/dist-packages (from matplotlib) (3.2.0)\n",
            "Requirement already satisfied: python-dateutil>=2.7 in /usr/local/lib/python3.10/dist-packages (from matplotlib) (2.8.2)\n",
            "Requirement already satisfied: six>=1.5 in /usr/local/lib/python3.10/dist-packages (from python-dateutil>=2.7->matplotlib) (1.17.0)\n",
            "Requirement already satisfied: tqdm in /usr/local/lib/python3.10/dist-packages (4.67.1)\n",
            "Requirement already satisfied: torchinfo in /usr/local/lib/python3.10/dist-packages (1.8.0)\n"
          ]
        }
      ],
      "source": [
        "! pip install nltk\n",
        "! pip install torch\n",
        "! pip install pandas\n",
        "! pip install gensim\n",
        "! pip install datasets\n",
        "! pip install matplotlib\n",
        "! pip install tqdm\n",
        "! pip install torchinfo\n",
        "\n",
        "# eventually include tensorboard"
      ]
    },
    {
      "cell_type": "code",
      "execution_count": 69,
      "metadata": {
        "id": "yKzjVDPZz8Pw"
      },
      "outputs": [],
      "source": [
        "# ML resources:\n",
        "import torch\n",
        "import os\n",
        "import matplotlib.pyplot as plt\n",
        "from datasets import load_dataset\n",
        "from gensim.models import Word2Vec\n",
        "from torch.utils.data import Dataset, DataLoader\n",
        "from collections import Counter\n",
        "\n",
        "#others:\n",
        "import pandas as pd\n",
        "import numpy as np\n",
        "\n",
        "\n",
        "punctuation = [\".\",\",\",\"?\", \"!\",\";\",\":\",\"-\",\"_\",\"(\",\")\",\"[\",\"]\",\"{\",\"}\"]\n"
      ]
    },
    {
      "cell_type": "markdown",
      "metadata": {
        "id": "76MNsIfVHjCa"
      },
      "source": [
        "## DataLoader not implemented yet:"
      ]
    },
    {
      "cell_type": "code",
      "execution_count": 70,
      "metadata": {
        "id": "Fg_YM3ntHjCa"
      },
      "outputs": [],
      "source": [
        "## annoying to adapt a bit\n",
        "\n",
        "class DailyDialogDataset(Dataset):\n",
        "  def __init__(self, text, emot,text_class,emot_class):\n",
        "  # Dataset object for Daily Dialog dataset\n",
        "    self.text = text               ## text with embeddings\n",
        "    self.emot = emot               ## emotion with embeddings\n",
        "    self.text_class = text_class   ## text for CrossEntropy\n",
        "    self.emot_class = emot_class   ## emotions for CrossEntropy\n",
        "\n",
        "  def __len__(self):\n",
        "    return len(self.text)\n",
        "\n",
        "  def __getitem__(self, idx):\n",
        "    item = {\n",
        "        'text': self.text[idx],\n",
        "        'emot': self.emot[idx],\n",
        "        'text_class': self.text_class[idx],\n",
        "        'emot_class': self.emot_class[idx]\n",
        "    }\n",
        "    return item\n",
        "\n"
      ]
    },
    {
      "cell_type": "markdown",
      "metadata": {
        "id": "o85DNm0FXNeK"
      },
      "source": [
        "Here we will extract the data:"
      ]
    },
    {
      "cell_type": "code",
      "execution_count": 71,
      "metadata": {
        "id": "KC_RQMGGXP7j"
      },
      "outputs": [],
      "source": [
        "emotions_emb = {}\n",
        "\n",
        "data = load_dataset('daily_dialog')\n",
        "X_train = data['train']['dialog']\n",
        "Y_train = data['train']['emotion']\n",
        "\n",
        "X_test = data['test']['dialog']\n",
        "Y_test = data['test']['emotion']\n",
        "\n",
        "X_val = data['validation']['dialog']\n",
        "Y_val = data['validation']['emotion']\n",
        "\n",
        "bagofwords = []\n",
        "emotions = []\n",
        "\n",
        "for lx,ly in zip(X_train,Y_train):\n",
        "  assert(len(lx) == len(ly))\n",
        "for lx,ly in zip(X_val,Y_val):\n",
        "  assert(len(lx) == len(ly))\n",
        "for lx,ly in zip(X_test,Y_test):\n",
        "  assert(len(lx) == len(ly))"
      ]
    },
    {
      "cell_type": "markdown",
      "metadata": {
        "id": "UlDAmVkdHjCc"
      },
      "source": [
        "While dataloader is not implemented, we have this:"
      ]
    },
    {
      "cell_type": "code",
      "execution_count": 72,
      "metadata": {
        "id": "euWLW7lRSZhQ"
      },
      "outputs": [],
      "source": [
        "def Preprocess_Data(X_,Y_): ## We do some simple prepocessing\n",
        "  bagofwords = []\n",
        "  emotions = []\n",
        "  X = X_\n",
        "  Y = Y_\n",
        "  for i in range(len(X)):\n",
        "    l1 = []\n",
        "    l2 = []\n",
        "    for j in range(len(X[i])):\n",
        "      to_append = X[i][j].lower().split()\n",
        "      l1.extend(to_append)\n",
        "      l2.extend([Y[i][j]]*len(to_append))\n",
        "      bagofwords.append(to_append)\n",
        "    X[i] = l1\n",
        "    Y[i] = l2\n",
        "\n",
        "  for i in range(len(X)): ## remove puncuation\n",
        "    to_remove = []\n",
        "    for j in range(len(X[i])):\n",
        "      if X[i][j] in punctuation:\n",
        "        to_remove.append(j)\n",
        "    for j in to_remove[::-1]:\n",
        "      X[i].pop(j)\n",
        "      Y[i].pop(j)\n",
        "  for i in Y:\n",
        "    for j in i:\n",
        "      emotions.append(j)\n",
        "  emotions = list(set(emotions))\n",
        "\n",
        "  for lx,ly in zip(X,Y):\n",
        "    assert(len(lx) == len(ly))\n",
        "  return X_, Y_, bagofwords, emotions\n",
        "\n",
        "X_train,Y_train, bagofwords1, emotions = Preprocess_Data(X_train,Y_train)\n",
        "X_test,Y_test, bagofwords2, _ = Preprocess_Data(X_test,Y_test)\n",
        "X_val,Y_val, bagofwords3, _ = Preprocess_Data(X_val,Y_val)\n",
        "\n"
      ]
    },
    {
      "cell_type": "code",
      "execution_count": 73,
      "metadata": {
        "colab": {
          "base_uri": "https://localhost:8080/"
        },
        "id": "22-jdBx2t3dm",
        "outputId": "8b420b59-54d1-4e0c-c3a3-82c9ed8f4269"
      },
      "outputs": [
        {
          "output_type": "stream",
          "name": "stdout",
          "text": [
            "train size:  11118\n",
            "test size:  1000\n",
            "validation size:  1000\n",
            "emotions:  [0, 1, 2, 3, 4, 5, 6]\n"
          ]
        }
      ],
      "source": [
        "for lx,ly in zip(X_train,Y_train):\n",
        "  assert(len(lx) == len(ly))\n",
        "for lx,ly in zip(X_val,Y_val):\n",
        "  assert(len(lx) == len(ly))\n",
        "for lx,ly in zip(X_test,Y_test):\n",
        "  assert(len(lx) == len(ly))\n",
        "\n",
        "print(\"train size: \",len(X_train))\n",
        "print(\"test size: \",len(X_test))\n",
        "print(\"validation size: \",len(X_val))\n",
        "print(\"emotions: \",emotions)\n"
      ]
    },
    {
      "cell_type": "markdown",
      "metadata": {
        "id": "BxOo7CsHGEIX"
      },
      "source": [
        "Now we train w2v:"
      ]
    },
    {
      "cell_type": "code",
      "execution_count": 74,
      "metadata": {
        "colab": {
          "base_uri": "https://localhost:8080/"
        },
        "id": "ZBvuQEIiGHDf",
        "outputId": "d21fcaa8-7a83-4449-89c5-3d0be5e21042"
      },
      "outputs": [
        {
          "output_type": "stream",
          "name": "stdout",
          "text": [
            "vocabulary size:  22075\n"
          ]
        }
      ],
      "source": [
        "word_dim = 800\n",
        "w2v = Word2Vec(sentences=bagofwords1, vector_size=word_dim, min_count=1)\n",
        "\n",
        "print(\"vocabulary size: \",len(w2v.wv))"
      ]
    },
    {
      "cell_type": "code",
      "execution_count": 75,
      "metadata": {
        "id": "6S86qh2DY_vV"
      },
      "outputs": [],
      "source": [
        "if len(emotions_emb) > 0:\n",
        "    pass\n",
        "else:\n",
        "  emotions_emb = {}\n",
        "\n",
        "## this continues the preprocess: We get the encoding for each word in the dataset:\n",
        "def encode_text(X):\n",
        "  train_X = []\n",
        "  words_list = []\n",
        "  train_X_class = {}\n",
        "  for dialog in X:\n",
        "    for word in dialog:\n",
        "      if word not in words_list:\n",
        "        words_list.append(word)\n",
        "      try:\n",
        "        tens = torch.from_numpy(w2v.wv[word])\n",
        "        tens = tens.type(torch.float32)\n",
        "      except:\n",
        "        tens = torch.rand(word_dim,dtype=torch.float32)\n",
        "      train_X.append(tens)\n",
        "  stoi = {word:i for i,word in enumerate(words_list)}\n",
        "  itos = {i:word for i,word in enumerate(words_list)}\n",
        "  X_utt = []\n",
        "  for i,word in itos.items():\n",
        "    tens = torch.zeros(len(words_list))\n",
        "    tens[i] = 1\n",
        "    train_X_class[word] = tens\n",
        "  for dialog in X:\n",
        "    for word in dialog:\n",
        "      X_utt.append(stoi[word])\n",
        "  return train_X, stoi, itos, train_X_class,X_utt\n",
        "\n",
        "## We do something similar to the emotions (but we initialized them randomly)\n",
        "def encode_emotions(Y,emotions_emb,plot_=False):\n",
        "  train_Y = []\n",
        "  Y_emo = []\n",
        "  plot_data = {i:0 for i in emotions}\n",
        "  if len(emotions_emb) == 0:\n",
        "    for emotion in emotions:\n",
        "      emotions_emb[emotion] = torch.rand(word_dim,dtype=torch.float32) ## sabe the embeddings of each word\n",
        "  for dialog in Y:\n",
        "    for em in dialog:\n",
        "      train_Y.append(emotions_emb[em])\n",
        "      Y_emo.append(em)\n",
        "    if plot_:\n",
        "      plot_data[em] += 1\n",
        "  return train_Y, Y_emo\n",
        "\n",
        "X_train1, stoi_train1, itos_train1, train_X_class,X_train_utt = encode_text(X_train)\n",
        "Y_train1, Y_train_emo = encode_emotions(Y_train,emotions_emb)\n",
        "\n",
        "X_test1, _, _, test_X_class,  X_test_utt  = encode_text(X_test)\n",
        "Y_test1, Y_test_emo = encode_emotions(Y_test,emotions_emb)\n",
        "\n",
        "X_val1, _, _, val_X_class, X_val_utt = encode_text(X_val)\n",
        "Y_val1, Y_val_emo= encode_emotions(Y_val,emotions_emb)\n",
        "\n"
      ]
    },
    {
      "cell_type": "code",
      "execution_count": 76,
      "metadata": {
        "id": "nJCwMdlcRGBL"
      },
      "outputs": [],
      "source": [
        "for i, vec in enumerate(train_X_class.values()):\n",
        "  assert(i == torch.argmax(vec))\n",
        "\n",
        "batch_size = 800\n",
        "train_data = DailyDialogDataset(X_train1[:-1],Y_train1[:-1],X_train_utt[1:],Y_train_emo[1:])\n",
        "test_data = DailyDialogDataset(X_test1[:-1],Y_test1[:-1],X_test_utt[1:],Y_test_emo[1:])\n",
        "val_data = DailyDialogDataset(X_val1[:-1],Y_val1[:-1],X_val_utt[1:],Y_val_emo[1:])\n",
        "\n",
        "train_loader = DataLoader(train_data, batch_size=batch_size,shuffle = True)\n",
        "test_loader = DataLoader(test_data, batch_size=batch_size,shuffle = True)\n",
        "val_loader = DataLoader(val_data, batch_size=batch_size, shuffle = True)\n"
      ]
    },
    {
      "cell_type": "markdown",
      "metadata": {
        "id": "2pyBr61UXulR"
      },
      "source": [
        "# The model:\n",
        "## archtecture\n",
        "- 2 input channels: word encoding, emotion encoding\n",
        "- dinamically updated weights: $w_1, w_2 = w1 + w2, w1$ (this is a lie. The weights are cached and trained)\n",
        "### For each channel:\n",
        "   - 3 sequential Linear layers\n",
        "- fusion linear layer through concatenation\n",
        "- 2 output channels which contain a linear layer each\n",
        "\n",
        "\n",
        "\n"
      ]
    },
    {
      "cell_type": "code",
      "execution_count": 77,
      "metadata": {
        "id": "F5G-cFE81iXV"
      },
      "outputs": [],
      "source": [
        "import torch.nn as nn\n",
        "import torch.nn.functional as F\n",
        "class SimpleModel(nn.Module):\n",
        "  def __init__(self, n_emb_utt, n_emb_emo, emotions_size, vocab_size):\n",
        "    super(SimpleModel,self).__init__()\n",
        "    ## Decide size later!\n",
        "    self.decoder = nn.Linear(n_emb_utt,vocab_size)\n",
        "    ## Channel for utterances/words:\n",
        "    self.Linear_utt1 = nn.Linear(n_emb_utt,80)\n",
        "    self.Linear_utt2 = nn.Linear(80,80)\n",
        "    self.Linear_utt3 = nn.Linear(80,80)\n",
        "    self.Linear_utt3.requires_grad = False\n",
        "\n",
        "    ## Channel for emotions:\n",
        "    self.Linear_emo1 = nn.Linear(n_emb_utt,80)\n",
        "    self.Linear_emo2 = nn.Linear(80,80)\n",
        "    self.Linear_emo3 = nn.Linear(80,80)\n",
        "    self.Linear_emo3.requires_grad = False\n",
        "\n",
        "    ## fusion by concatenation and Linear layer:\n",
        "    self.Linear_fus = nn.Linear(160,300)\n",
        "\n",
        "    ## We concatenate and do linear again (2 different concatenations)\n",
        "    self.Linear_utt_final = nn.Linear(380, n_emb_utt)\n",
        "    self.Linear_emo_final = nn.Linear(380, emotions_size)\n",
        "\n",
        "    self.softmax = nn.Softmax(dim=0)\n",
        "\n",
        "\n",
        "\n",
        "  def forward(self, text_emb, emo_emb):\n",
        "\n",
        "    x = self.Linear_utt1(text_emb)\n",
        "    x = self.Linear_utt2(x)\n",
        "    x = self.Linear_utt3(x)\n",
        "\n",
        "    y = self.Linear_emo1(emo_emb)\n",
        "    y = self.Linear_emo2(y)\n",
        "    y = self.Linear_emo3(y)\n",
        "\n",
        "    z = torch.cat((x,y),-1) ## very simple\n",
        "    z = self.Linear_fus(z)\n",
        "\n",
        "    w = torch.cat((z,x),-1)\n",
        "\n",
        "    pred_token = self.Linear_utt_final(w)\n",
        "    pred_token = self.decoder(pred_token)\n",
        "    pred_token = self.softmax(pred_token)\n",
        "\n",
        "    v = torch.cat((z,y),-1)\n",
        "    v = self.Linear_emo_final(v)\n",
        "\n",
        "    pred_emotion = self.softmax(v)\n",
        "    return pred_token, pred_emotion\n",
        "\n"
      ]
    },
    {
      "cell_type": "code",
      "execution_count": 78,
      "metadata": {
        "id": "xwIbcOL2Q3zd"
      },
      "outputs": [],
      "source": [
        "import torch.optim as optim\n",
        "from tqdm.notebook import tqdm\n",
        "def activate_gpu(force_cpu=False): # check if gpu available ; code taken from template\n",
        "    device = \"cpu\"\n",
        "    if not force_cpu:\n",
        "        if torch.cuda.is_available(): # for both Nvidia and AMD GPUs\n",
        "            device = 'cuda'\n",
        "            print('DEVICE = ', torch.cuda.get_device_name(0))\n",
        "        elif torch.backends.mps.is_available(): # for mac ARM chipset\n",
        "            device = 'mps'\n",
        "            print('DEVICE = ', \"mps\" )\n",
        "        else: # for cpu only\n",
        "            device = 'cpu'\n",
        "            print('DEVICE = ', 'CPU', \"blue\")\n",
        "    return device\n",
        "\n",
        "## normal train function\n",
        "def train(model, epochs, device):\n",
        "  optimizer = optim.Adam(model.parameters())\n",
        "  loss_fn = nn.CrossEntropyLoss()\n",
        "  model.train()\n",
        "  model = model.to(device)\n",
        "  loss = 0\n",
        "  loss_to_plot = []\n",
        "  for epoch in range(epochs):\n",
        "    losses = []\n",
        "    print(f\"Epoch {epoch+1}/{epochs}\")\n",
        "    loss_batch = 0\n",
        "    for it, batch in tqdm(enumerate(train_loader),total = train_loader.__len__()):\n",
        "      batch = {'text': batch['text'].to(device), 'emot': batch['emot'].to(device), 'text_class': batch['text_class'].to(device), 'emot_class': batch['emot_class'].to(device)}\n",
        "      optimizer.zero_grad()\n",
        "      pt, pe  = model.forward(batch['text'],batch['emot'])\n",
        "      loss = loss_fn(pe,batch['emot_class'])\n",
        "      loss.backward()\n",
        "      optimizer.step()\n",
        "      losses.append(loss.item())\n",
        "    loss_to_append = sum(losses)/len(losses)\n",
        "    loss_to_plot.append(loss_to_append)\n",
        "    print(f\"loss: \",loss_to_append)\n",
        "  return loss_to_plot\n"
      ]
    },
    {
      "cell_type": "code",
      "execution_count": 79,
      "metadata": {
        "colab": {
          "base_uri": "https://localhost:8080/"
        },
        "id": "IMl6CqIu72Ze",
        "outputId": "c74655ee-e2a5-414c-e68b-1137db1b5c1a"
      },
      "outputs": [
        {
          "output_type": "stream",
          "name": "stdout",
          "text": [
            "DEVICE =  CPU blue\n",
            "cpu\n"
          ]
        }
      ],
      "source": [
        "device = activate_gpu()\n",
        "fn = nn.CrossEntropyLoss()\n",
        "model = SimpleModel(word_dim,word_dim,len(emotions),len(train_X_class))\n",
        "print(device)"
      ]
    },
    {
      "cell_type": "code",
      "execution_count": 80,
      "metadata": {
        "colab": {
          "base_uri": "https://localhost:8080/",
          "height": 581,
          "referenced_widgets": [
            "fb8e56b2ac044fb193ce511fd8de36db",
            "f75e797c744e4fe788d8762dbda51e8f",
            "630e661e6e5a44f1ab72bd600ed31c28",
            "11a7304fc80e4ce78442a0b206818dba",
            "70f01965aef74ae3ad9f9be1b02be44c",
            "8bb22959cec3452bbd0c467599fbbd44",
            "f27021dd3ab0457b98ad23ff1fae17be",
            "37b9fcdcffd14741a8a5cf12c0b9dde4",
            "fae2ead9e7b8490297e90b793befcb4c",
            "d3a9317bda74401b880bec705a7c7090",
            "23b16d4f5ce84fc6b3ca87f63d253b54",
            "716406c8d1f640b6899762ed7a35580a",
            "a539a2706cfb4d8da7dda4c88a2ec2db",
            "fb638133f412449d80d63d4bd0fec8d4",
            "798626172ea74abda5a66ea12193c6a1",
            "10238202257847d5901760120cce384d",
            "82625be3760e492289d116a970993186",
            "fd29acd0240d42e7a88a31135b696880",
            "e9769d0ea432484d9467d4c71a02f2d3",
            "e2e06a338de144de8e7e9dd3c721a710",
            "440550d82e714f34aee8bf71887ec318",
            "e9d8897042334fac9729cf31aabcfeb5"
          ]
        },
        "id": "6jmIaKWuHoAa",
        "outputId": "234ca070-f4b7-43d9-cc78-0df39661c9c6"
      },
      "outputs": [
        {
          "output_type": "stream",
          "name": "stdout",
          "text": [
            "Epoch 1/2\n"
          ]
        },
        {
          "output_type": "display_data",
          "data": {
            "text/plain": [
              "  0%|          | 0/1251 [00:00<?, ?it/s]"
            ],
            "application/vnd.jupyter.widget-view+json": {
              "version_major": 2,
              "version_minor": 0,
              "model_id": "fb8e56b2ac044fb193ce511fd8de36db"
            }
          },
          "metadata": {}
        },
        {
          "output_type": "stream",
          "name": "stdout",
          "text": [
            "loss:  1.9391838020557979\n",
            "Epoch 2/2\n"
          ]
        },
        {
          "output_type": "display_data",
          "data": {
            "text/plain": [
              "  0%|          | 0/1251 [00:00<?, ?it/s]"
            ],
            "application/vnd.jupyter.widget-view+json": {
              "version_major": 2,
              "version_minor": 0,
              "model_id": "716406c8d1f640b6899762ed7a35580a"
            }
          },
          "metadata": {}
        },
        {
          "output_type": "stream",
          "name": "stdout",
          "text": [
            "loss:  1.9412817917853522\n"
          ]
        },
        {
          "output_type": "execute_result",
          "data": {
            "text/plain": [
              "[<matplotlib.lines.Line2D at 0x7b0bf2ab20e0>]"
            ]
          },
          "metadata": {},
          "execution_count": 80
        },
        {
          "output_type": "display_data",
          "data": {
            "text/plain": [
              "<Figure size 640x480 with 1 Axes>"
            ],
            "image/png": "[encoded data removed]"
          },
          "metadata": {}
        }
      ],
      "source": [
        "epochs = 2\n",
        "\n",
        "losses = train(model,epochs,device)\n",
        "plt.plot(np.arange(1,epochs+1),losses)"
      ]
    },
    {
      "cell_type": "markdown",
      "metadata": {
        "id": "kHvIlbSp1hpF"
      },
      "source": [
        "# Descrition of the issues faced:\n",
        "\n",
        "It is not trivial of how to deal with the gradient flow in this case. Maybe by fixing the 2 matrix it would go better. Or just train the matrix with fixed weight. And update the weight not in the forward pass. but in the prediction. this way we can cache the weight and everytime we restart, we will be ok.\n",
        "\n",
        "I believe that, the issue of this approach specifically is updating directly the weights, and not, a hidden state, for instance.\n",
        "\n",
        "# Problem with Daily Dialog:\n",
        "By plotting the frequency of each emotion, we notice that the dataset is truly not diversified. It has essentially only 2 emotions. This is not ideal, because the models will most likely overfit into predicting those 2 emotions..."
      ]
    },
    {
      "cell_type": "code",
      "execution_count": 81,
      "metadata": {
        "colab": {
          "base_uri": "https://localhost:8080/",
          "height": 84,
          "referenced_widgets": [
            "dc3c5bf83d534c62b2bbc3fd787d7565",
            "98e94fbd65b7440081a3ae7752ed59d0",
            "2450e868d17f4446a9e309071d7d1b23",
            "31033937c1d5419ebde96822be83ca76",
            "8d7f1c98c5fd4ab084b5cc6f7f46c215",
            "e3755af2e3ef4cf69e43a14bb9398394",
            "2946443c32ba4e309a03c40175a91633",
            "24a717d65d00498683eef52edf11aad7",
            "40db25459f6d49eda50dd7274a4ac6ea",
            "bce34f2566b74a19b596a58a7c3f2086",
            "cb7236f5dab145a785c22e6113dad664"
          ]
        },
        "id": "rkMtblC8Je0O",
        "outputId": "70f94b61-840a-4627-fab4-b338c5bc63ac"
      },
      "outputs": [
        {
          "output_type": "display_data",
          "data": {
            "text/plain": [
              "  0%|          | 0/115 [00:00<?, ?it/s]"
            ],
            "application/vnd.jupyter.widget-view+json": {
              "version_major": 2,
              "version_minor": 0,
              "model_id": "dc3c5bf83d534c62b2bbc3fd787d7565"
            }
          },
          "metadata": {}
        },
        {
          "output_type": "stream",
          "name": "stdout",
          "text": [
            "average loss:  1.941661022020423\n",
            "average acc:  0.24201935218728107\n"
          ]
        }
      ],
      "source": [
        "def compute_test_loss(model,loss_fn,data_loader,device):\n",
        "  model.eval()\n",
        "  losses = []\n",
        "  accs = []\n",
        "  preds = []\n",
        "  prec = 0\n",
        "  trues = []\n",
        "  for it,batch in tqdm(enumerate(data_loader),total=data_loader.__len__()):\n",
        "    batch = {'text' : batch['text'].to(device),'emot': batch['emot'].to(device),'text_class': batch['text_class'].to(device),'emot_class': batch['emot_class'].to(device)}\n",
        "    pt, pe  = model.forward(batch['text'],batch['emot'])\n",
        "    loss = loss_fn(pe,batch['emot_class'])\n",
        "    index_pred = torch.argmax(pe,1)\n",
        "    correct = (batch['emot_class'].flatten() == index_pred.flatten()).float().sum()\n",
        "    acc = correct/len(index_pred.flatten())\n",
        "    accs.append(acc.item())\n",
        "    losses.append(loss.item())\n",
        "    trues.extend(batch['emot_class'].flatten().tolist())\n",
        "    preds.extend(index_pred.tolist())\n",
        "  print(\"average loss: \", sum(losses)/len(losses))\n",
        "  print(\"average acc: \", sum(accs)/len(accs))\n",
        "  return trues, preds\n",
        "trues, preds = compute_test_loss(model,nn.CrossEntropyLoss(),val_loader,device)\n",
        "names = [f'i' for i in range(1,8)]\n",
        "\n"
      ]
    },
    {
      "cell_type": "code",
      "source": [
        "print(trues[:100])\n",
        "print(preds[:100])\n",
        "names = [f'{i}' for i in range(0,7)]\n",
        "\n",
        "from sklearn.metrics import classification_report, confusion_matrix, roc_curve, auc, RocCurveDisplay\n",
        "print(classification_report(np.array(trues).flatten(), np.array(preds).flatten(), target_names=names))\n",
        "confusion_matrix(trues,preds)"
      ],
      "metadata": {
        "colab": {
          "base_uri": "https://localhost:8080/"
        },
        "id": "-z_t9a34i5uN",
        "outputId": "5524314c-be63-4df3-ad9a-f57aed418353"
      },
      "execution_count": 82,
      "outputs": [
        {
          "output_type": "stream",
          "name": "stdout",
          "text": [
            "[0, 0, 0, 0, 0, 0, 0, 0, 0, 0, 0, 0, 0, 0, 0, 4, 0, 6, 0, 0, 0, 0, 0, 0, 0, 0, 0, 0, 0, 0, 0, 0, 0, 0, 5, 0, 0, 0, 0, 0, 0, 0, 0, 0, 0, 0, 0, 0, 0, 0, 0, 0, 0, 4, 0, 0, 0, 0, 0, 0, 0, 0, 0, 0, 0, 0, 0, 0, 0, 0, 0, 0, 0, 0, 0, 0, 0, 5, 0, 4, 0, 0, 0, 0, 0, 0, 0, 0, 0, 0, 0, 0, 4, 0, 0, 4, 0, 0, 5, 0]\n",
            "[2, 2, 0, 2, 0, 0, 2, 2, 0, 0, 2, 2, 2, 2, 2, 0, 2, 6, 2, 2, 2, 2, 2, 2, 2, 2, 2, 2, 0, 2, 2, 2, 0, 2, 5, 2, 2, 0, 2, 2, 0, 0, 2, 0, 2, 2, 2, 2, 0, 2, 2, 2, 2, 0, 2, 2, 0, 2, 2, 2, 0, 2, 2, 2, 2, 2, 2, 2, 2, 2, 2, 2, 2, 2, 2, 2, 2, 3, 0, 0, 2, 2, 0, 0, 2, 2, 2, 2, 2, 2, 0, 2, 0, 2, 2, 0, 2, 2, 3, 2]\n",
            "              precision    recall  f1-score   support\n",
            "\n",
            "           0       0.77      0.24      0.36     82011\n",
            "           1       0.92      0.80      0.85      1083\n",
            "           2       0.00      0.07      0.00        41\n",
            "           3       0.24      0.55      0.33       126\n",
            "           4       0.00      0.00      0.00      6231\n",
            "           5       0.93      0.75      0.83      1085\n",
            "           6       0.90      0.90      0.90      1033\n",
            "\n",
            "    accuracy                           0.24     91610\n",
            "   macro avg       0.54      0.47      0.47     91610\n",
            "weighted avg       0.72      0.24      0.36     91610\n",
            "\n"
          ]
        },
        {
          "output_type": "execute_result",
          "data": {
            "text/plain": [
              "array([[19483,    51, 62294,    23,    19,    49,    92],\n",
              "       [    5,   861,    58,     1,   156,     1,     1],\n",
              "       [    0,    19,     3,     5,    14,     0,     0],\n",
              "       [    0,     0,    10,    69,    47,     0,     0],\n",
              "       [ 5759,     0,   460,     0,     1,     4,     7],\n",
              "       [    5,     3,    66,   191,     0,   817,     3],\n",
              "       [   12,     1,    87,     0,     0,     3,   930]])"
            ]
          },
          "metadata": {},
          "execution_count": 82
        }
      ]
    },
    {
      "cell_type": "code",
      "execution_count": 83,
      "metadata": {
        "id": "wkAx-PPJdmWT"
      },
      "outputs": [],
      "source": [
        "def eval_sentence(model, sentence, encoded_sentence, emotions, device):\n",
        "  model.eval()\n",
        "  for i in range(len(sentence) - 1):\n",
        "    pe, _ = model.forward(encoded_sentence[i].to(device),emotions[i].to(device))\n",
        "    t = torch.max(pe,1)\n",
        "    print(f\"word:{sentence[i+1]}; predicted_emotion: {t} ; target_emotion: {emotions[i+1]}\")\n",
        "\n",
        "# eval_sentence(model,sentence,encod,emot,device)"
      ]
    }
  ],
  "metadata": {
    "colab": {
      "provenance": []
    },
    "kernelspec": {
      "display_name": "Python 3",
      "name": "python3"
    },
    "language_info": {
      "name": "python"
    },
    "widgets": {
      "application/vnd.jupyter.widget-state+json": {
        "fb8e56b2ac044fb193ce511fd8de36db": {
          "model_module": "@jupyter-widgets/controls",
          "model_name": "HBoxModel",
          "model_module_version": "1.5.0",
          "state": {
            "_dom_classes": [],
            "_model_module": "@jupyter-widgets/controls",
            "_model_module_version": "1.5.0",
            "_model_name": "HBoxModel",
            "_view_count": null,
            "_view_module": "@jupyter-widgets/controls",
            "_view_module_version": "1.5.0",
            "_view_name": "HBoxView",
            "box_style": "",
            "children": [
              "IPY_MODEL_f75e797c744e4fe788d8762dbda51e8f",
              "IPY_MODEL_630e661e6e5a44f1ab72bd600ed31c28",
              "IPY_MODEL_11a7304fc80e4ce78442a0b206818dba"
            ],
            "layout": "IPY_MODEL_70f01965aef74ae3ad9f9be1b02be44c"
          }
        },
        "f75e797c744e4fe788d8762dbda51e8f": {
          "model_module": "@jupyter-widgets/controls",
          "model_name": "HTMLModel",
          "model_module_version": "1.5.0",
          "state": {
            "_dom_classes": [],
            "_model_module": "@jupyter-widgets/controls",
            "_model_module_version": "1.5.0",
            "_model_name": "HTMLModel",
            "_view_count": null,
            "_view_module": "@jupyter-widgets/controls",
            "_view_module_version": "1.5.0",
            "_view_name": "HTMLView",
            "description": "",
            "description_tooltip": null,
            "layout": "IPY_MODEL_8bb22959cec3452bbd0c467599fbbd44",
            "placeholder": "​",
            "style": "IPY_MODEL_f27021dd3ab0457b98ad23ff1fae17be",
            "value": "100%"
          }
        },
        "630e661e6e5a44f1ab72bd600ed31c28": {
          "model_module": "@jupyter-widgets/controls",
          "model_name": "FloatProgressModel",
          "model_module_version": "1.5.0",
          "state": {
            "_dom_classes": [],
            "_model_module": "@jupyter-widgets/controls",
            "_model_module_version": "1.5.0",
            "_model_name": "FloatProgressModel",
            "_view_count": null,
            "_view_module": "@jupyter-widgets/controls",
            "_view_module_version": "1.5.0",
            "_view_name": "ProgressView",
            "bar_style": "success",
            "description": "",
            "description_tooltip": null,
            "layout": "IPY_MODEL_37b9fcdcffd14741a8a5cf12c0b9dde4",
            "max": 1251,
            "min": 0,
            "orientation": "horizontal",
            "style": "IPY_MODEL_fae2ead9e7b8490297e90b793befcb4c",
            "value": 1251
          }
        },
        "11a7304fc80e4ce78442a0b206818dba": {
          "model_module": "@jupyter-widgets/controls",
          "model_name": "HTMLModel",
          "model_module_version": "1.5.0",
          "state": {
            "_dom_classes": [],
            "_model_module": "@jupyter-widgets/controls",
            "_model_module_version": "1.5.0",
            "_model_name": "HTMLModel",
            "_view_count": null,
            "_view_module": "@jupyter-widgets/controls",
            "_view_module_version": "1.5.0",
            "_view_name": "HTMLView",
            "description": "",
            "description_tooltip": null,
            "layout": "IPY_MODEL_d3a9317bda74401b880bec705a7c7090",
            "placeholder": "​",
            "style": "IPY_MODEL_23b16d4f5ce84fc6b3ca87f63d253b54",
            "value": " 1251/1251 [13:45&lt;00:00,  2.19it/s]"
          }
        },
        "70f01965aef74ae3ad9f9be1b02be44c": {
          "model_module": "@jupyter-widgets/base",
          "model_name": "LayoutModel",
          "model_module_version": "1.2.0",
          "state": {
            "_model_module": "@jupyter-widgets/base",
            "_model_module_version": "1.2.0",
            "_model_name": "LayoutModel",
            "_view_count": null,
            "_view_module": "@jupyter-widgets/base",
            "_view_module_version": "1.2.0",
            "_view_name": "LayoutView",
            "align_content": null,
            "align_items": null,
            "align_self": null,
            "border": null,
            "bottom": null,
            "display": null,
            "flex": null,
            "flex_flow": null,
            "grid_area": null,
            "grid_auto_columns": null,
            "grid_auto_flow": null,
            "grid_auto_rows": null,
            "grid_column": null,
            "grid_gap": null,
            "grid_row": null,
            "grid_template_areas": null,
            "grid_template_columns": null,
            "grid_template_rows": null,
            "height": null,
            "justify_content": null,
            "justify_items": null,
            "left": null,
            "margin": null,
            "max_height": null,
            "max_width": null,
            "min_height": null,
            "min_width": null,
            "object_fit": null,
            "object_position": null,
            "order": null,
            "overflow": null,
            "overflow_x": null,
            "overflow_y": null,
            "padding": null,
            "right": null,
            "top": null,
            "visibility": null,
            "width": null
          }
        },
        "8bb22959cec3452bbd0c467599fbbd44": {
          "model_module": "@jupyter-widgets/base",
          "model_name": "LayoutModel",
          "model_module_version": "1.2.0",
          "state": {
            "_model_module": "@jupyter-widgets/base",
            "_model_module_version": "1.2.0",
            "_model_name": "LayoutModel",
            "_view_count": null,
            "_view_module": "@jupyter-widgets/base",
            "_view_module_version": "1.2.0",
            "_view_name": "LayoutView",
            "align_content": null,
            "align_items": null,
            "align_self": null,
            "border": null,
            "bottom": null,
            "display": null,
            "flex": null,
            "flex_flow": null,
            "grid_area": null,
            "grid_auto_columns": null,
            "grid_auto_flow": null,
            "grid_auto_rows": null,
            "grid_column": null,
            "grid_gap": null,
            "grid_row": null,
            "grid_template_areas": null,
            "grid_template_columns": null,
            "grid_template_rows": null,
            "height": null,
            "justify_content": null,
            "justify_items": null,
            "left": null,
            "margin": null,
            "max_height": null,
            "max_width": null,
            "min_height": null,
            "min_width": null,
            "object_fit": null,
            "object_position": null,
            "order": null,
            "overflow": null,
            "overflow_x": null,
            "overflow_y": null,
            "padding": null,
            "right": null,
            "top": null,
            "visibility": null,
            "width": null
          }
        },
        "f27021dd3ab0457b98ad23ff1fae17be": {
          "model_module": "@jupyter-widgets/controls",
          "model_name": "DescriptionStyleModel",
          "model_module_version": "1.5.0",
          "state": {
            "_model_module": "@jupyter-widgets/controls",
            "_model_module_version": "1.5.0",
            "_model_name": "DescriptionStyleModel",
            "_view_count": null,
            "_view_module": "@jupyter-widgets/base",
            "_view_module_version": "1.2.0",
            "_view_name": "StyleView",
            "description_width": ""
          }
        },
        "37b9fcdcffd14741a8a5cf12c0b9dde4": {
          "model_module": "@jupyter-widgets/base",
          "model_name": "LayoutModel",
          "model_module_version": "1.2.0",
          "state": {
            "_model_module": "@jupyter-widgets/base",
            "_model_module_version": "1.2.0",
            "_model_name": "LayoutModel",
            "_view_count": null,
            "_view_module": "@jupyter-widgets/base",
            "_view_module_version": "1.2.0",
            "_view_name": "LayoutView",
            "align_content": null,
            "align_items": null,
            "align_self": null,
            "border": null,
            "bottom": null,
            "display": null,
            "flex": null,
            "flex_flow": null,
            "grid_area": null,
            "grid_auto_columns": null,
            "grid_auto_flow": null,
            "grid_auto_rows": null,
            "grid_column": null,
            "grid_gap": null,
            "grid_row": null,
            "grid_template_areas": null,
            "grid_template_columns": null,
            "grid_template_rows": null,
            "height": null,
            "justify_content": null,
            "justify_items": null,
            "left": null,
            "margin": null,
            "max_height": null,
            "max_width": null,
            "min_height": null,
            "min_width": null,
            "object_fit": null,
            "object_position": null,
            "order": null,
            "overflow": null,
            "overflow_x": null,
            "overflow_y": null,
            "padding": null,
            "right": null,
            "top": null,
            "visibility": null,
            "width": null
          }
        },
        "fae2ead9e7b8490297e90b793befcb4c": {
          "model_module": "@jupyter-widgets/controls",
          "model_name": "ProgressStyleModel",
          "model_module_version": "1.5.0",
          "state": {
            "_model_module": "@jupyter-widgets/controls",
            "_model_module_version": "1.5.0",
            "_model_name": "ProgressStyleModel",
            "_view_count": null,
            "_view_module": "@jupyter-widgets/base",
            "_view_module_version": "1.2.0",
            "_view_name": "StyleView",
            "bar_color": null,
            "description_width": ""
          }
        },
        "d3a9317bda74401b880bec705a7c7090": {
          "model_module": "@jupyter-widgets/base",
          "model_name": "LayoutModel",
          "model_module_version": "1.2.0",
          "state": {
            "_model_module": "@jupyter-widgets/base",
            "_model_module_version": "1.2.0",
            "_model_name": "LayoutModel",
            "_view_count": null,
            "_view_module": "@jupyter-widgets/base",
            "_view_module_version": "1.2.0",
            "_view_name": "LayoutView",
            "align_content": null,
            "align_items": null,
            "align_self": null,
            "border": null,
            "bottom": null,
            "display": null,
            "flex": null,
            "flex_flow": null,
            "grid_area": null,
            "grid_auto_columns": null,
            "grid_auto_flow": null,
            "grid_auto_rows": null,
            "grid_column": null,
            "grid_gap": null,
            "grid_row": null,
            "grid_template_areas": null,
            "grid_template_columns": null,
            "grid_template_rows": null,
            "height": null,
            "justify_content": null,
            "justify_items": null,
            "left": null,
            "margin": null,
            "max_height": null,
            "max_width": null,
            "min_height": null,
            "min_width": null,
            "object_fit": null,
            "object_position": null,
            "order": null,
            "overflow": null,
            "overflow_x": null,
            "overflow_y": null,
            "padding": null,
            "right": null,
            "top": null,
            "visibility": null,
            "width": null
          }
        },
        "23b16d4f5ce84fc6b3ca87f63d253b54": {
          "model_module": "@jupyter-widgets/controls",
          "model_name": "DescriptionStyleModel",
          "model_module_version": "1.5.0",
          "state": {
            "_model_module": "@jupyter-widgets/controls",
            "_model_module_version": "1.5.0",
            "_model_name": "DescriptionStyleModel",
            "_view_count": null,
            "_view_module": "@jupyter-widgets/base",
            "_view_module_version": "1.2.0",
            "_view_name": "StyleView",
            "description_width": ""
          }
        },
        "716406c8d1f640b6899762ed7a35580a": {
          "model_module": "@jupyter-widgets/controls",
          "model_name": "HBoxModel",
          "model_module_version": "1.5.0",
          "state": {
            "_dom_classes": [],
            "_model_module": "@jupyter-widgets/controls",
            "_model_module_version": "1.5.0",
            "_model_name": "HBoxModel",
            "_view_count": null,
            "_view_module": "@jupyter-widgets/controls",
            "_view_module_version": "1.5.0",
            "_view_name": "HBoxView",
            "box_style": "",
            "children": [
              "IPY_MODEL_a539a2706cfb4d8da7dda4c88a2ec2db",
              "IPY_MODEL_fb638133f412449d80d63d4bd0fec8d4",
              "IPY_MODEL_798626172ea74abda5a66ea12193c6a1"
            ],
            "layout": "IPY_MODEL_10238202257847d5901760120cce384d"
          }
        },
        "a539a2706cfb4d8da7dda4c88a2ec2db": {
          "model_module": "@jupyter-widgets/controls",
          "model_name": "HTMLModel",
          "model_module_version": "1.5.0",
          "state": {
            "_dom_classes": [],
            "_model_module": "@jupyter-widgets/controls",
            "_model_module_version": "1.5.0",
            "_model_name": "HTMLModel",
            "_view_count": null,
            "_view_module": "@jupyter-widgets/controls",
            "_view_module_version": "1.5.0",
            "_view_name": "HTMLView",
            "description": "",
            "description_tooltip": null,
            "layout": "IPY_MODEL_82625be3760e492289d116a970993186",
            "placeholder": "​",
            "style": "IPY_MODEL_fd29acd0240d42e7a88a31135b696880",
            "value": "100%"
          }
        },
        "fb638133f412449d80d63d4bd0fec8d4": {
          "model_module": "@jupyter-widgets/controls",
          "model_name": "FloatProgressModel",
          "model_module_version": "1.5.0",
          "state": {
            "_dom_classes": [],
            "_model_module": "@jupyter-widgets/controls",
            "_model_module_version": "1.5.0",
            "_model_name": "FloatProgressModel",
            "_view_count": null,
            "_view_module": "@jupyter-widgets/controls",
            "_view_module_version": "1.5.0",
            "_view_name": "ProgressView",
            "bar_style": "success",
            "description": "",
            "description_tooltip": null,
            "layout": "IPY_MODEL_e9769d0ea432484d9467d4c71a02f2d3",
            "max": 1251,
            "min": 0,
            "orientation": "horizontal",
            "style": "IPY_MODEL_e2e06a338de144de8e7e9dd3c721a710",
            "value": 1251
          }
        },
        "798626172ea74abda5a66ea12193c6a1": {
          "model_module": "@jupyter-widgets/controls",
          "model_name": "HTMLModel",
          "model_module_version": "1.5.0",
          "state": {
            "_dom_classes": [],
            "_model_module": "@jupyter-widgets/controls",
            "_model_module_version": "1.5.0",
            "_model_name": "HTMLModel",
            "_view_count": null,
            "_view_module": "@jupyter-widgets/controls",
            "_view_module_version": "1.5.0",
            "_view_name": "HTMLView",
            "description": "",
            "description_tooltip": null,
            "layout": "IPY_MODEL_440550d82e714f34aee8bf71887ec318",
            "placeholder": "​",
            "style": "IPY_MODEL_e9d8897042334fac9729cf31aabcfeb5",
            "value": " 1251/1251 [13:43&lt;00:00,  2.06it/s]"
          }
        },
        "10238202257847d5901760120cce384d": {
          "model_module": "@jupyter-widgets/base",
          "model_name": "LayoutModel",
          "model_module_version": "1.2.0",
          "state": {
            "_model_module": "@jupyter-widgets/base",
            "_model_module_version": "1.2.0",
            "_model_name": "LayoutModel",
            "_view_count": null,
            "_view_module": "@jupyter-widgets/base",
            "_view_module_version": "1.2.0",
            "_view_name": "LayoutView",
            "align_content": null,
            "align_items": null,
            "align_self": null,
            "border": null,
            "bottom": null,
            "display": null,
            "flex": null,
            "flex_flow": null,
            "grid_area": null,
            "grid_auto_columns": null,
            "grid_auto_flow": null,
            "grid_auto_rows": null,
            "grid_column": null,
            "grid_gap": null,
            "grid_row": null,
            "grid_template_areas": null,
            "grid_template_columns": null,
            "grid_template_rows": null,
            "height": null,
            "justify_content": null,
            "justify_items": null,
            "left": null,
            "margin": null,
            "max_height": null,
            "max_width": null,
            "min_height": null,
            "min_width": null,
            "object_fit": null,
            "object_position": null,
            "order": null,
            "overflow": null,
            "overflow_x": null,
            "overflow_y": null,
            "padding": null,
            "right": null,
            "top": null,
            "visibility": null,
            "width": null
          }
        },
        "82625be3760e492289d116a970993186": {
          "model_module": "@jupyter-widgets/base",
          "model_name": "LayoutModel",
          "model_module_version": "1.2.0",
          "state": {
            "_model_module": "@jupyter-widgets/base",
            "_model_module_version": "1.2.0",
            "_model_name": "LayoutModel",
            "_view_count": null,
            "_view_module": "@jupyter-widgets/base",
            "_view_module_version": "1.2.0",
            "_view_name": "LayoutView",
            "align_content": null,
            "align_items": null,
            "align_self": null,
            "border": null,
            "bottom": null,
            "display": null,
            "flex": null,
            "flex_flow": null,
            "grid_area": null,
            "grid_auto_columns": null,
            "grid_auto_flow": null,
            "grid_auto_rows": null,
            "grid_column": null,
            "grid_gap": null,
            "grid_row": null,
            "grid_template_areas": null,
            "grid_template_columns": null,
            "grid_template_rows": null,
            "height": null,
            "justify_content": null,
            "justify_items": null,
            "left": null,
            "margin": null,
            "max_height": null,
            "max_width": null,
            "min_height": null,
            "min_width": null,
            "object_fit": null,
            "object_position": null,
            "order": null,
            "overflow": null,
            "overflow_x": null,
            "overflow_y": null,
            "padding": null,
            "right": null,
            "top": null,
            "visibility": null,
            "width": null
          }
        },
        "fd29acd0240d42e7a88a31135b696880": {
          "model_module": "@jupyter-widgets/controls",
          "model_name": "DescriptionStyleModel",
          "model_module_version": "1.5.0",
          "state": {
            "_model_module": "@jupyter-widgets/controls",
            "_model_module_version": "1.5.0",
            "_model_name": "DescriptionStyleModel",
            "_view_count": null,
            "_view_module": "@jupyter-widgets/base",
            "_view_module_version": "1.2.0",
            "_view_name": "StyleView",
            "description_width": ""
          }
        },
        "e9769d0ea432484d9467d4c71a02f2d3": {
          "model_module": "@jupyter-widgets/base",
          "model_name": "LayoutModel",
          "model_module_version": "1.2.0",
          "state": {
            "_model_module": "@jupyter-widgets/base",
            "_model_module_version": "1.2.0",
            "_model_name": "LayoutModel",
            "_view_count": null,
            "_view_module": "@jupyter-widgets/base",
            "_view_module_version": "1.2.0",
            "_view_name": "LayoutView",
            "align_content": null,
            "align_items": null,
            "align_self": null,
            "border": null,
            "bottom": null,
            "display": null,
            "flex": null,
            "flex_flow": null,
            "grid_area": null,
            "grid_auto_columns": null,
            "grid_auto_flow": null,
            "grid_auto_rows": null,
            "grid_column": null,
            "grid_gap": null,
            "grid_row": null,
            "grid_template_areas": null,
            "grid_template_columns": null,
            "grid_template_rows": null,
            "height": null,
            "justify_content": null,
            "justify_items": null,
            "left": null,
            "margin": null,
            "max_height": null,
            "max_width": null,
            "min_height": null,
            "min_width": null,
            "object_fit": null,
            "object_position": null,
            "order": null,
            "overflow": null,
            "overflow_x": null,
            "overflow_y": null,
            "padding": null,
            "right": null,
            "top": null,
            "visibility": null,
            "width": null
          }
        },
        "e2e06a338de144de8e7e9dd3c721a710": {
          "model_module": "@jupyter-widgets/controls",
          "model_name": "ProgressStyleModel",
          "model_module_version": "1.5.0",
          "state": {
            "_model_module": "@jupyter-widgets/controls",
            "_model_module_version": "1.5.0",
            "_model_name": "ProgressStyleModel",
            "_view_count": null,
            "_view_module": "@jupyter-widgets/base",
            "_view_module_version": "1.2.0",
            "_view_name": "StyleView",
            "bar_color": null,
            "description_width": ""
          }
        },
        "440550d82e714f34aee8bf71887ec318": {
          "model_module": "@jupyter-widgets/base",
          "model_name": "LayoutModel",
          "model_module_version": "1.2.0",
          "state": {
            "_model_module": "@jupyter-widgets/base",
            "_model_module_version": "1.2.0",
            "_model_name": "LayoutModel",
            "_view_count": null,
            "_view_module": "@jupyter-widgets/base",
            "_view_module_version": "1.2.0",
            "_view_name": "LayoutView",
            "align_content": null,
            "align_items": null,
            "align_self": null,
            "border": null,
            "bottom": null,
            "display": null,
            "flex": null,
            "flex_flow": null,
            "grid_area": null,
            "grid_auto_columns": null,
            "grid_auto_flow": null,
            "grid_auto_rows": null,
            "grid_column": null,
            "grid_gap": null,
            "grid_row": null,
            "grid_template_areas": null,
            "grid_template_columns": null,
            "grid_template_rows": null,
            "height": null,
            "justify_content": null,
            "justify_items": null,
            "left": null,
            "margin": null,
            "max_height": null,
            "max_width": null,
            "min_height": null,
            "min_width": null,
            "object_fit": null,
            "object_position": null,
            "order": null,
            "overflow": null,
            "overflow_x": null,
            "overflow_y": null,
            "padding": null,
            "right": null,
            "top": null,
            "visibility": null,
            "width": null
          }
        },
        "e9d8897042334fac9729cf31aabcfeb5": {
          "model_module": "@jupyter-widgets/controls",
          "model_name": "DescriptionStyleModel",
          "model_module_version": "1.5.0",
          "state": {
            "_model_module": "@jupyter-widgets/controls",
            "_model_module_version": "1.5.0",
            "_model_name": "DescriptionStyleModel",
            "_view_count": null,
            "_view_module": "@jupyter-widgets/base",
            "_view_module_version": "1.2.0",
            "_view_name": "StyleView",
            "description_width": ""
          }
        },
        "dc3c5bf83d534c62b2bbc3fd787d7565": {
          "model_module": "@jupyter-widgets/controls",
          "model_name": "HBoxModel",
          "model_module_version": "1.5.0",
          "state": {
            "_dom_classes": [],
            "_model_module": "@jupyter-widgets/controls",
            "_model_module_version": "1.5.0",
            "_model_name": "HBoxModel",
            "_view_count": null,
            "_view_module": "@jupyter-widgets/controls",
            "_view_module_version": "1.5.0",
            "_view_name": "HBoxView",
            "box_style": "",
            "children": [
              "IPY_MODEL_98e94fbd65b7440081a3ae7752ed59d0",
              "IPY_MODEL_2450e868d17f4446a9e309071d7d1b23",
              "IPY_MODEL_31033937c1d5419ebde96822be83ca76"
            ],
            "layout": "IPY_MODEL_8d7f1c98c5fd4ab084b5cc6f7f46c215"
          }
        },
        "98e94fbd65b7440081a3ae7752ed59d0": {
          "model_module": "@jupyter-widgets/controls",
          "model_name": "HTMLModel",
          "model_module_version": "1.5.0",
          "state": {
            "_dom_classes": [],
            "_model_module": "@jupyter-widgets/controls",
            "_model_module_version": "1.5.0",
            "_model_name": "HTMLModel",
            "_view_count": null,
            "_view_module": "@jupyter-widgets/controls",
            "_view_module_version": "1.5.0",
            "_view_name": "HTMLView",
            "description": "",
            "description_tooltip": null,
            "layout": "IPY_MODEL_e3755af2e3ef4cf69e43a14bb9398394",
            "placeholder": "​",
            "style": "IPY_MODEL_2946443c32ba4e309a03c40175a91633",
            "value": "100%"
          }
        },
        "2450e868d17f4446a9e309071d7d1b23": {
          "model_module": "@jupyter-widgets/controls",
          "model_name": "FloatProgressModel",
          "model_module_version": "1.5.0",
          "state": {
            "_dom_classes": [],
            "_model_module": "@jupyter-widgets/controls",
            "_model_module_version": "1.5.0",
            "_model_name": "FloatProgressModel",
            "_view_count": null,
            "_view_module": "@jupyter-widgets/controls",
            "_view_module_version": "1.5.0",
            "_view_name": "ProgressView",
            "bar_style": "success",
            "description": "",
            "description_tooltip": null,
            "layout": "IPY_MODEL_24a717d65d00498683eef52edf11aad7",
            "max": 115,
            "min": 0,
            "orientation": "horizontal",
            "style": "IPY_MODEL_40db25459f6d49eda50dd7274a4ac6ea",
            "value": 115
          }
        },
        "31033937c1d5419ebde96822be83ca76": {
          "model_module": "@jupyter-widgets/controls",
          "model_name": "HTMLModel",
          "model_module_version": "1.5.0",
          "state": {
            "_dom_classes": [],
            "_model_module": "@jupyter-widgets/controls",
            "_model_module_version": "1.5.0",
            "_model_name": "HTMLModel",
            "_view_count": null,
            "_view_module": "@jupyter-widgets/controls",
            "_view_module_version": "1.5.0",
            "_view_name": "HTMLView",
            "description": "",
            "description_tooltip": null,
            "layout": "IPY_MODEL_bce34f2566b74a19b596a58a7c3f2086",
            "placeholder": "​",
            "style": "IPY_MODEL_cb7236f5dab145a785c22e6113dad664",
            "value": " 115/115 [01:12&lt;00:00,  2.07it/s]"
          }
        },
        "8d7f1c98c5fd4ab084b5cc6f7f46c215": {
          "model_module": "@jupyter-widgets/base",
          "model_name": "LayoutModel",
          "model_module_version": "1.2.0",
          "state": {
            "_model_module": "@jupyter-widgets/base",
            "_model_module_version": "1.2.0",
            "_model_name": "LayoutModel",
            "_view_count": null,
            "_view_module": "@jupyter-widgets/base",
            "_view_module_version": "1.2.0",
            "_view_name": "LayoutView",
            "align_content": null,
            "align_items": null,
            "align_self": null,
            "border": null,
            "bottom": null,
            "display": null,
            "flex": null,
            "flex_flow": null,
            "grid_area": null,
            "grid_auto_columns": null,
            "grid_auto_flow": null,
            "grid_auto_rows": null,
            "grid_column": null,
            "grid_gap": null,
            "grid_row": null,
            "grid_template_areas": null,
            "grid_template_columns": null,
            "grid_template_rows": null,
            "height": null,
            "justify_content": null,
            "justify_items": null,
            "left": null,
            "margin": null,
            "max_height": null,
            "max_width": null,
            "min_height": null,
            "min_width": null,
            "object_fit": null,
            "object_position": null,
            "order": null,
            "overflow": null,
            "overflow_x": null,
            "overflow_y": null,
            "padding": null,
            "right": null,
            "top": null,
            "visibility": null,
            "width": null
          }
        },
        "e3755af2e3ef4cf69e43a14bb9398394": {
          "model_module": "@jupyter-widgets/base",
          "model_name": "LayoutModel",
          "model_module_version": "1.2.0",
          "state": {
            "_model_module": "@jupyter-widgets/base",
            "_model_module_version": "1.2.0",
            "_model_name": "LayoutModel",
            "_view_count": null,
            "_view_module": "@jupyter-widgets/base",
            "_view_module_version": "1.2.0",
            "_view_name": "LayoutView",
            "align_content": null,
            "align_items": null,
            "align_self": null,
            "border": null,
            "bottom": null,
            "display": null,
            "flex": null,
            "flex_flow": null,
            "grid_area": null,
            "grid_auto_columns": null,
            "grid_auto_flow": null,
            "grid_auto_rows": null,
            "grid_column": null,
            "grid_gap": null,
            "grid_row": null,
            "grid_template_areas": null,
            "grid_template_columns": null,
            "grid_template_rows": null,
            "height": null,
            "justify_content": null,
            "justify_items": null,
            "left": null,
            "margin": null,
            "max_height": null,
            "max_width": null,
            "min_height": null,
            "min_width": null,
            "object_fit": null,
            "object_position": null,
            "order": null,
            "overflow": null,
            "overflow_x": null,
            "overflow_y": null,
            "padding": null,
            "right": null,
            "top": null,
            "visibility": null,
            "width": null
          }
        },
        "2946443c32ba4e309a03c40175a91633": {
          "model_module": "@jupyter-widgets/controls",
          "model_name": "DescriptionStyleModel",
          "model_module_version": "1.5.0",
          "state": {
            "_model_module": "@jupyter-widgets/controls",
            "_model_module_version": "1.5.0",
            "_model_name": "DescriptionStyleModel",
            "_view_count": null,
            "_view_module": "@jupyter-widgets/base",
            "_view_module_version": "1.2.0",
            "_view_name": "StyleView",
            "description_width": ""
          }
        },
        "24a717d65d00498683eef52edf11aad7": {
          "model_module": "@jupyter-widgets/base",
          "model_name": "LayoutModel",
          "model_module_version": "1.2.0",
          "state": {
            "_model_module": "@jupyter-widgets/base",
            "_model_module_version": "1.2.0",
            "_model_name": "LayoutModel",
            "_view_count": null,
            "_view_module": "@jupyter-widgets/base",
            "_view_module_version": "1.2.0",
            "_view_name": "LayoutView",
            "align_content": null,
            "align_items": null,
            "align_self": null,
            "border": null,
            "bottom": null,
            "display": null,
            "flex": null,
            "flex_flow": null,
            "grid_area": null,
            "grid_auto_columns": null,
            "grid_auto_flow": null,
            "grid_auto_rows": null,
            "grid_column": null,
            "grid_gap": null,
            "grid_row": null,
            "grid_template_areas": null,
            "grid_template_columns": null,
            "grid_template_rows": null,
            "height": null,
            "justify_content": null,
            "justify_items": null,
            "left": null,
            "margin": null,
            "max_height": null,
            "max_width": null,
            "min_height": null,
            "min_width": null,
            "object_fit": null,
            "object_position": null,
            "order": null,
            "overflow": null,
            "overflow_x": null,
            "overflow_y": null,
            "padding": null,
            "right": null,
            "top": null,
            "visibility": null,
            "width": null
          }
        },
        "40db25459f6d49eda50dd7274a4ac6ea": {
          "model_module": "@jupyter-widgets/controls",
          "model_name": "ProgressStyleModel",
          "model_module_version": "1.5.0",
          "state": {
            "_model_module": "@jupyter-widgets/controls",
            "_model_module_version": "1.5.0",
            "_model_name": "ProgressStyleModel",
            "_view_count": null,
            "_view_module": "@jupyter-widgets/base",
            "_view_module_version": "1.2.0",
            "_view_name": "StyleView",
            "bar_color": null,
            "description_width": ""
          }
        },
        "bce34f2566b74a19b596a58a7c3f2086": {
          "model_module": "@jupyter-widgets/base",
          "model_name": "LayoutModel",
          "model_module_version": "1.2.0",
          "state": {
            "_model_module": "@jupyter-widgets/base",
            "_model_module_version": "1.2.0",
            "_model_name": "LayoutModel",
            "_view_count": null,
            "_view_module": "@jupyter-widgets/base",
            "_view_module_version": "1.2.0",
            "_view_name": "LayoutView",
            "align_content": null,
            "align_items": null,
            "align_self": null,
            "border": null,
            "bottom": null,
            "display": null,
            "flex": null,
            "flex_flow": null,
            "grid_area": null,
            "grid_auto_columns": null,
            "grid_auto_flow": null,
            "grid_auto_rows": null,
            "grid_column": null,
            "grid_gap": null,
            "grid_row": null,
            "grid_template_areas": null,
            "grid_template_columns": null,
            "grid_template_rows": null,
            "height": null,
            "justify_content": null,
            "justify_items": null,
            "left": null,
            "margin": null,
            "max_height": null,
            "max_width": null,
            "min_height": null,
            "min_width": null,
            "object_fit": null,
            "object_position": null,
            "order": null,
            "overflow": null,
            "overflow_x": null,
            "overflow_y": null,
            "padding": null,
            "right": null,
            "top": null,
            "visibility": null,
            "width": null
          }
        },
        "cb7236f5dab145a785c22e6113dad664": {
          "model_module": "@jupyter-widgets/controls",
          "model_name": "DescriptionStyleModel",
          "model_module_version": "1.5.0",
          "state": {
            "_model_module": "@jupyter-widgets/controls",
            "_model_module_version": "1.5.0",
            "_model_name": "DescriptionStyleModel",
            "_view_count": null,
            "_view_module": "@jupyter-widgets/base",
            "_view_module_version": "1.2.0",
            "_view_name": "StyleView",
            "description_width": ""
          }
        }
      }
    }
  },
  "nbformat": 4,
  "nbformat_minor": 0
}